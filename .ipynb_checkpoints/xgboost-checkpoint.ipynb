{
 "cells": [
  {
   "cell_type": "code",
   "execution_count": 4,
   "id": "be480e70-14db-4a41-93b8-f178a0301f3f",
   "metadata": {},
   "outputs": [],
   "source": [
    "from pathlib import Path\n",
    "import numpy as np\n",
    "import pandas as pd\n",
    "import matplotlib.pyplot as plt\n",
    "from sklearn.preprocessing import StandardScaler\n",
    "from sklearn.impute import SimpleImputer\n",
    "from sklearn.multioutput import MultiOutputClassifier\n",
    "from sklearn.pipeline import Pipeline\n",
    "from sklearn.model_selection import train_test_split\n",
    "from sklearn.metrics import roc_auc_score\n",
    "RANDOM_SEED = 6    # Set a random seed for reproducibility!\n",
    "from dirty_cat import SuperVectorizer\n",
    "from sklearn.linear_model import LogisticRegressionCV\n",
    "import xgboost as xgb\n",
    "from sklearn.model_selection import GridSearchCV\n",
    "pd.set_option(\"display.max_columns\", 100)"
   ]
  },
  {
   "cell_type": "code",
   "execution_count": 5,
   "id": "333e6d6d-d8e4-452d-8401-c5c9cb6f642e",
   "metadata": {},
   "outputs": [],
   "source": [
    "features_df = pd.read_csv(\n",
    "    \"training_set_features.csv\", \n",
    "    index_col=\"respondent_id\"\n",
    ")\n",
    "labels_df = pd.read_csv(\n",
    "    \"training_set_labels.csv\", \n",
    "    index_col=\"respondent_id\"\n",
    ")"
   ]
  },
  {
   "cell_type": "markdown",
   "id": "d11db08d-0275-4978-a507-f6594fc164d4",
   "metadata": {},
   "source": [
    "## Grid Search for best Parameters"
   ]
  },
  {
   "cell_type": "code",
   "execution_count": 6,
   "id": "461f55d5-f3a0-49e8-8c60-2a228d796f96",
   "metadata": {},
   "outputs": [],
   "source": [
    "\"\"\"\n",
    "parameters = {\n",
    "    'max_depth': range (2, 10, 1),\n",
    "    'n_estimators': range(60, 220, 40),\n",
    "    'learning_rate': [0.1, 0.01, 0.05]\n",
    "}\n",
    "\"\"\"\n",
    "parameters = {\n",
    "    'min_child_weight': range (2,20,3),\n",
    "    'gamma': [0,0.05,0.1,0.15,0.2],\n",
    "    'subsample': [0.5,0.55,0.6,0.65,0.7]\n",
    "}\n",
    "\n",
    "\n",
    "clf = GridSearchCV(estimator= xgb.XGBClassifier(objective=\"multi:softprob\", random_state=RANDOM_SEED,num_class = 2,learning_rate= 0.05, n_estimators=180, min_child_weight= 10,gamma= 0.1, maxdepth= 5, subsample= 0.6),\n",
    "                   param_grid = parameters,\n",
    "                   n_jobs=-1, \n",
    "                   scoring='roc_auc',\n",
    "                   cv=5,\n",
    "                   verbose=2, refit=True)"
   ]
  },
  {
   "cell_type": "code",
   "execution_count": 7,
   "id": "333fd86e-f0f0-4b19-a77c-ad8f40bd18a8",
   "metadata": {},
   "outputs": [],
   "source": [
    "estimators = MultiOutputClassifier(\n",
    "    estimator = clf\n",
    ")"
   ]
  },
  {
   "cell_type": "code",
   "execution_count": 8,
   "id": "19fac1a7-8eb7-499d-84bd-81c9c0716983",
   "metadata": {},
   "outputs": [
    {
     "data": {
      "text/html": [
       "<style>#sk-container-id-1 {color: black;background-color: white;}#sk-container-id-1 pre{padding: 0;}#sk-container-id-1 div.sk-toggleable {background-color: white;}#sk-container-id-1 label.sk-toggleable__label {cursor: pointer;display: block;width: 100%;margin-bottom: 0;padding: 0.3em;box-sizing: border-box;text-align: center;}#sk-container-id-1 label.sk-toggleable__label-arrow:before {content: \"▸\";float: left;margin-right: 0.25em;color: #696969;}#sk-container-id-1 label.sk-toggleable__label-arrow:hover:before {color: black;}#sk-container-id-1 div.sk-estimator:hover label.sk-toggleable__label-arrow:before {color: black;}#sk-container-id-1 div.sk-toggleable__content {max-height: 0;max-width: 0;overflow: hidden;text-align: left;background-color: #f0f8ff;}#sk-container-id-1 div.sk-toggleable__content pre {margin: 0.2em;color: black;border-radius: 0.25em;background-color: #f0f8ff;}#sk-container-id-1 input.sk-toggleable__control:checked~div.sk-toggleable__content {max-height: 200px;max-width: 100%;overflow: auto;}#sk-container-id-1 input.sk-toggleable__control:checked~label.sk-toggleable__label-arrow:before {content: \"▾\";}#sk-container-id-1 div.sk-estimator input.sk-toggleable__control:checked~label.sk-toggleable__label {background-color: #d4ebff;}#sk-container-id-1 div.sk-label input.sk-toggleable__control:checked~label.sk-toggleable__label {background-color: #d4ebff;}#sk-container-id-1 input.sk-hidden--visually {border: 0;clip: rect(1px 1px 1px 1px);clip: rect(1px, 1px, 1px, 1px);height: 1px;margin: -1px;overflow: hidden;padding: 0;position: absolute;width: 1px;}#sk-container-id-1 div.sk-estimator {font-family: monospace;background-color: #f0f8ff;border: 1px dotted black;border-radius: 0.25em;box-sizing: border-box;margin-bottom: 0.5em;}#sk-container-id-1 div.sk-estimator:hover {background-color: #d4ebff;}#sk-container-id-1 div.sk-parallel-item::after {content: \"\";width: 100%;border-bottom: 1px solid gray;flex-grow: 1;}#sk-container-id-1 div.sk-label:hover label.sk-toggleable__label {background-color: #d4ebff;}#sk-container-id-1 div.sk-serial::before {content: \"\";position: absolute;border-left: 1px solid gray;box-sizing: border-box;top: 0;bottom: 0;left: 50%;z-index: 0;}#sk-container-id-1 div.sk-serial {display: flex;flex-direction: column;align-items: center;background-color: white;padding-right: 0.2em;padding-left: 0.2em;position: relative;}#sk-container-id-1 div.sk-item {position: relative;z-index: 1;}#sk-container-id-1 div.sk-parallel {display: flex;align-items: stretch;justify-content: center;background-color: white;position: relative;}#sk-container-id-1 div.sk-item::before, #sk-container-id-1 div.sk-parallel-item::before {content: \"\";position: absolute;border-left: 1px solid gray;box-sizing: border-box;top: 0;bottom: 0;left: 50%;z-index: -1;}#sk-container-id-1 div.sk-parallel-item {display: flex;flex-direction: column;z-index: 1;position: relative;background-color: white;}#sk-container-id-1 div.sk-parallel-item:first-child::after {align-self: flex-end;width: 50%;}#sk-container-id-1 div.sk-parallel-item:last-child::after {align-self: flex-start;width: 50%;}#sk-container-id-1 div.sk-parallel-item:only-child::after {width: 0;}#sk-container-id-1 div.sk-dashed-wrapped {border: 1px dashed gray;margin: 0 0.4em 0.5em 0.4em;box-sizing: border-box;padding-bottom: 0.4em;background-color: white;}#sk-container-id-1 div.sk-label label {font-family: monospace;font-weight: bold;display: inline-block;line-height: 1.2em;}#sk-container-id-1 div.sk-label-container {text-align: center;}#sk-container-id-1 div.sk-container {/* jupyter's `normalize.less` sets `[hidden] { display: none; }` but bootstrap.min.css set `[hidden] { display: none !important; }` so we also need the `!important` here to be able to override the default hidden behavior on the sphinx rendered scikit-learn.org. See: https://github.com/scikit-learn/scikit-learn/issues/21755 */display: inline-block !important;position: relative;}#sk-container-id-1 div.sk-text-repr-fallback {display: none;}</style><div id=\"sk-container-id-1\" class=\"sk-top-container\"><div class=\"sk-text-repr-fallback\"><pre>Pipeline(steps=[(&#x27;preprocessor&#x27;, SuperVectorizer()),\n",
       "                (&#x27;simple_imputer&#x27;, SimpleImputer()),\n",
       "                (&#x27;estimators&#x27;,\n",
       "                 MultiOutputClassifier(estimator=GridSearchCV(cv=5,\n",
       "                                                              estimator=XGBClassifier(base_score=None,\n",
       "                                                                                      booster=None,\n",
       "                                                                                      callbacks=None,\n",
       "                                                                                      colsample_bylevel=None,\n",
       "                                                                                      colsample_bynode=None,\n",
       "                                                                                      colsample_bytree=None,\n",
       "                                                                                      early_stopping_rounds=None,\n",
       "                                                                                      enable_categorical=False,\n",
       "                                                                                      eval_metric=N...\n",
       "                                                                                      max_leaves=None,\n",
       "                                                                                      maxdepth=5,\n",
       "                                                                                      min_child_weight=10,\n",
       "                                                                                      missing=nan,\n",
       "                                                                                      monotone_constraints=None,\n",
       "                                                                                      n_estimators=180,\n",
       "                                                                                      n_jobs=None,\n",
       "                                                                                      num_class=2,\n",
       "                                                                                      num_parallel_tree=None,\n",
       "                                                                                      objective=&#x27;multi:softprob&#x27;,\n",
       "                                                                                      predictor=None, ...),\n",
       "                                                              n_jobs=-1,\n",
       "                                                              param_grid={&#x27;gamma&#x27;: [0,\n",
       "                                                                                    0.05,\n",
       "                                                                                    0.1,\n",
       "                                                                                    0.15,\n",
       "                                                                                    0.2],\n",
       "                                                                          &#x27;min_child_weight&#x27;: range(2, 20, 3),\n",
       "                                                                          &#x27;subsample&#x27;: [0.5,\n",
       "                                                                                        0.55,\n",
       "                                                                                        0.6,\n",
       "                                                                                        0.65,\n",
       "                                                                                        0.7]},\n",
       "                                                              scoring=&#x27;roc_auc&#x27;,\n",
       "                                                              verbose=2)))])</pre><b>In a Jupyter environment, please rerun this cell to show the HTML representation or trust the notebook. <br />On GitHub, the HTML representation is unable to render, please try loading this page with nbviewer.org.</b></div><div class=\"sk-container\" hidden><div class=\"sk-item sk-dashed-wrapped\"><div class=\"sk-label-container\"><div class=\"sk-label sk-toggleable\"><input class=\"sk-toggleable__control sk-hidden--visually\" id=\"sk-estimator-id-1\" type=\"checkbox\" ><label for=\"sk-estimator-id-1\" class=\"sk-toggleable__label sk-toggleable__label-arrow\">Pipeline</label><div class=\"sk-toggleable__content\"><pre>Pipeline(steps=[(&#x27;preprocessor&#x27;, SuperVectorizer()),\n",
       "                (&#x27;simple_imputer&#x27;, SimpleImputer()),\n",
       "                (&#x27;estimators&#x27;,\n",
       "                 MultiOutputClassifier(estimator=GridSearchCV(cv=5,\n",
       "                                                              estimator=XGBClassifier(base_score=None,\n",
       "                                                                                      booster=None,\n",
       "                                                                                      callbacks=None,\n",
       "                                                                                      colsample_bylevel=None,\n",
       "                                                                                      colsample_bynode=None,\n",
       "                                                                                      colsample_bytree=None,\n",
       "                                                                                      early_stopping_rounds=None,\n",
       "                                                                                      enable_categorical=False,\n",
       "                                                                                      eval_metric=N...\n",
       "                                                                                      max_leaves=None,\n",
       "                                                                                      maxdepth=5,\n",
       "                                                                                      min_child_weight=10,\n",
       "                                                                                      missing=nan,\n",
       "                                                                                      monotone_constraints=None,\n",
       "                                                                                      n_estimators=180,\n",
       "                                                                                      n_jobs=None,\n",
       "                                                                                      num_class=2,\n",
       "                                                                                      num_parallel_tree=None,\n",
       "                                                                                      objective=&#x27;multi:softprob&#x27;,\n",
       "                                                                                      predictor=None, ...),\n",
       "                                                              n_jobs=-1,\n",
       "                                                              param_grid={&#x27;gamma&#x27;: [0,\n",
       "                                                                                    0.05,\n",
       "                                                                                    0.1,\n",
       "                                                                                    0.15,\n",
       "                                                                                    0.2],\n",
       "                                                                          &#x27;min_child_weight&#x27;: range(2, 20, 3),\n",
       "                                                                          &#x27;subsample&#x27;: [0.5,\n",
       "                                                                                        0.55,\n",
       "                                                                                        0.6,\n",
       "                                                                                        0.65,\n",
       "                                                                                        0.7]},\n",
       "                                                              scoring=&#x27;roc_auc&#x27;,\n",
       "                                                              verbose=2)))])</pre></div></div></div><div class=\"sk-serial\"><div class=\"sk-item sk-dashed-wrapped\"><div class=\"sk-label-container\"><div class=\"sk-label sk-toggleable\"><input class=\"sk-toggleable__control sk-hidden--visually\" id=\"sk-estimator-id-2\" type=\"checkbox\" ><label for=\"sk-estimator-id-2\" class=\"sk-toggleable__label sk-toggleable__label-arrow\">preprocessor: SuperVectorizer</label><div class=\"sk-toggleable__content\"><pre>SuperVectorizer()</pre></div></div></div><div class=\"sk-parallel\"><div class=\"sk-parallel-item\"><div class=\"sk-item\"><div class=\"sk-label-container\"><div class=\"sk-label sk-toggleable\"><input class=\"sk-toggleable__control sk-hidden--visually\" id=\"sk-estimator-id-3\" type=\"checkbox\" ><label for=\"sk-estimator-id-3\" class=\"sk-toggleable__label sk-toggleable__label-arrow\">remainder</label><div class=\"sk-toggleable__content\"><pre></pre></div></div></div><div class=\"sk-serial\"><div class=\"sk-item\"><div class=\"sk-estimator sk-toggleable\"><input class=\"sk-toggleable__control sk-hidden--visually\" id=\"sk-estimator-id-4\" type=\"checkbox\" ><label for=\"sk-estimator-id-4\" class=\"sk-toggleable__label sk-toggleable__label-arrow\">passthrough</label><div class=\"sk-toggleable__content\"><pre>passthrough</pre></div></div></div></div></div></div></div></div><div class=\"sk-item\"><div class=\"sk-estimator sk-toggleable\"><input class=\"sk-toggleable__control sk-hidden--visually\" id=\"sk-estimator-id-5\" type=\"checkbox\" ><label for=\"sk-estimator-id-5\" class=\"sk-toggleable__label sk-toggleable__label-arrow\">SimpleImputer</label><div class=\"sk-toggleable__content\"><pre>SimpleImputer()</pre></div></div></div><div class=\"sk-item sk-dashed-wrapped\"><div class=\"sk-label-container\"><div class=\"sk-label sk-toggleable\"><input class=\"sk-toggleable__control sk-hidden--visually\" id=\"sk-estimator-id-6\" type=\"checkbox\" ><label for=\"sk-estimator-id-6\" class=\"sk-toggleable__label sk-toggleable__label-arrow\">estimators: MultiOutputClassifier</label><div class=\"sk-toggleable__content\"><pre>MultiOutputClassifier(estimator=GridSearchCV(cv=5,\n",
       "                                             estimator=XGBClassifier(base_score=None,\n",
       "                                                                     booster=None,\n",
       "                                                                     callbacks=None,\n",
       "                                                                     colsample_bylevel=None,\n",
       "                                                                     colsample_bynode=None,\n",
       "                                                                     colsample_bytree=None,\n",
       "                                                                     early_stopping_rounds=None,\n",
       "                                                                     enable_categorical=False,\n",
       "                                                                     eval_metric=None,\n",
       "                                                                     gamma=0.1,\n",
       "                                                                     gpu_id=None,\n",
       "                                                                     grow_policy=None,\n",
       "                                                                     importance_type=None,\n",
       "                                                                     interaction_constraints=None,\n",
       "                                                                     learnin...\n",
       "                                                                     max_depth=None,\n",
       "                                                                     max_leaves=None,\n",
       "                                                                     maxdepth=5,\n",
       "                                                                     min_child_weight=10,\n",
       "                                                                     missing=nan,\n",
       "                                                                     monotone_constraints=None,\n",
       "                                                                     n_estimators=180,\n",
       "                                                                     n_jobs=None,\n",
       "                                                                     num_class=2,\n",
       "                                                                     num_parallel_tree=None,\n",
       "                                                                     objective=&#x27;multi:softprob&#x27;,\n",
       "                                                                     predictor=None, ...),\n",
       "                                             n_jobs=-1,\n",
       "                                             param_grid={&#x27;gamma&#x27;: [0, 0.05, 0.1,\n",
       "                                                                   0.15, 0.2],\n",
       "                                                         &#x27;min_child_weight&#x27;: range(2, 20, 3),\n",
       "                                                         &#x27;subsample&#x27;: [0.5,\n",
       "                                                                       0.55,\n",
       "                                                                       0.6,\n",
       "                                                                       0.65,\n",
       "                                                                       0.7]},\n",
       "                                             scoring=&#x27;roc_auc&#x27;, verbose=2))</pre></div></div></div><div class=\"sk-parallel\"><div class=\"sk-parallel-item\"><div class=\"sk-item\"><div class=\"sk-label-container\"><div class=\"sk-label sk-toggleable\"><input class=\"sk-toggleable__control sk-hidden--visually\" id=\"sk-estimator-id-7\" type=\"checkbox\" ><label for=\"sk-estimator-id-7\" class=\"sk-toggleable__label sk-toggleable__label-arrow\">estimator: GridSearchCV</label><div class=\"sk-toggleable__content\"><pre>GridSearchCV(cv=5,\n",
       "             estimator=XGBClassifier(base_score=None, booster=None,\n",
       "                                     callbacks=None, colsample_bylevel=None,\n",
       "                                     colsample_bynode=None,\n",
       "                                     colsample_bytree=None,\n",
       "                                     early_stopping_rounds=None,\n",
       "                                     enable_categorical=False, eval_metric=None,\n",
       "                                     gamma=0.1, gpu_id=None, grow_policy=None,\n",
       "                                     importance_type=None,\n",
       "                                     interaction_constraints=None,\n",
       "                                     learning_rate=0.05, max_bin=None,\n",
       "                                     max_cat...\n",
       "                                     max_delta_step=None, max_depth=None,\n",
       "                                     max_leaves=None, maxdepth=5,\n",
       "                                     min_child_weight=10, missing=nan,\n",
       "                                     monotone_constraints=None,\n",
       "                                     n_estimators=180, n_jobs=None, num_class=2,\n",
       "                                     num_parallel_tree=None,\n",
       "                                     objective=&#x27;multi:softprob&#x27;, predictor=None, ...),\n",
       "             n_jobs=-1,\n",
       "             param_grid={&#x27;gamma&#x27;: [0, 0.05, 0.1, 0.15, 0.2],\n",
       "                         &#x27;min_child_weight&#x27;: range(2, 20, 3),\n",
       "                         &#x27;subsample&#x27;: [0.5, 0.55, 0.6, 0.65, 0.7]},\n",
       "             scoring=&#x27;roc_auc&#x27;, verbose=2)</pre></div></div></div><div class=\"sk-serial\"><div class=\"sk-item sk-dashed-wrapped\"><div class=\"sk-parallel\"><div class=\"sk-parallel-item\"><div class=\"sk-item\"><div class=\"sk-label-container\"><div class=\"sk-label sk-toggleable\"><input class=\"sk-toggleable__control sk-hidden--visually\" id=\"sk-estimator-id-8\" type=\"checkbox\" ><label for=\"sk-estimator-id-8\" class=\"sk-toggleable__label sk-toggleable__label-arrow\">estimator: XGBClassifier</label><div class=\"sk-toggleable__content\"><pre>XGBClassifier(base_score=None, booster=None, callbacks=None,\n",
       "              colsample_bylevel=None, colsample_bynode=None,\n",
       "              colsample_bytree=None, early_stopping_rounds=None,\n",
       "              enable_categorical=False, eval_metric=None, gamma=0.1,\n",
       "              gpu_id=None, grow_policy=None, importance_type=None,\n",
       "              interaction_constraints=None, learning_rate=0.05, max_bin=None,\n",
       "              max_cat_to_onehot=None, max_delta_step=None, max_depth=None,\n",
       "              max_leaves=None, maxdepth=5, min_child_weight=10, missing=nan,\n",
       "              monotone_constraints=None, n_estimators=180, n_jobs=None,\n",
       "              num_class=2, num_parallel_tree=None, objective=&#x27;multi:softprob&#x27;,\n",
       "              predictor=None, ...)</pre></div></div></div><div class=\"sk-serial\"><div class=\"sk-item\"><div class=\"sk-estimator sk-toggleable\"><input class=\"sk-toggleable__control sk-hidden--visually\" id=\"sk-estimator-id-9\" type=\"checkbox\" ><label for=\"sk-estimator-id-9\" class=\"sk-toggleable__label sk-toggleable__label-arrow\">XGBClassifier</label><div class=\"sk-toggleable__content\"><pre>XGBClassifier(base_score=None, booster=None, callbacks=None,\n",
       "              colsample_bylevel=None, colsample_bynode=None,\n",
       "              colsample_bytree=None, early_stopping_rounds=None,\n",
       "              enable_categorical=False, eval_metric=None, gamma=0.1,\n",
       "              gpu_id=None, grow_policy=None, importance_type=None,\n",
       "              interaction_constraints=None, learning_rate=0.05, max_bin=None,\n",
       "              max_cat_to_onehot=None, max_delta_step=None, max_depth=None,\n",
       "              max_leaves=None, maxdepth=5, min_child_weight=10, missing=nan,\n",
       "              monotone_constraints=None, n_estimators=180, n_jobs=None,\n",
       "              num_class=2, num_parallel_tree=None, objective=&#x27;multi:softprob&#x27;,\n",
       "              predictor=None, ...)</pre></div></div></div></div></div></div></div></div></div></div></div></div></div></div></div></div></div>"
      ],
      "text/plain": [
       "Pipeline(steps=[('preprocessor', SuperVectorizer()),\n",
       "                ('simple_imputer', SimpleImputer()),\n",
       "                ('estimators',\n",
       "                 MultiOutputClassifier(estimator=GridSearchCV(cv=5,\n",
       "                                                              estimator=XGBClassifier(base_score=None,\n",
       "                                                                                      booster=None,\n",
       "                                                                                      callbacks=None,\n",
       "                                                                                      colsample_bylevel=None,\n",
       "                                                                                      colsample_bynode=None,\n",
       "                                                                                      colsample_bytree=None,\n",
       "                                                                                      early_stopping_rounds=None,\n",
       "                                                                                      enable_categorical=False,\n",
       "                                                                                      eval_metric=N...\n",
       "                                                                                      max_leaves=None,\n",
       "                                                                                      maxdepth=5,\n",
       "                                                                                      min_child_weight=10,\n",
       "                                                                                      missing=nan,\n",
       "                                                                                      monotone_constraints=None,\n",
       "                                                                                      n_estimators=180,\n",
       "                                                                                      n_jobs=None,\n",
       "                                                                                      num_class=2,\n",
       "                                                                                      num_parallel_tree=None,\n",
       "                                                                                      objective='multi:softprob',\n",
       "                                                                                      predictor=None, ...),\n",
       "                                                              n_jobs=-1,\n",
       "                                                              param_grid={'gamma': [0,\n",
       "                                                                                    0.05,\n",
       "                                                                                    0.1,\n",
       "                                                                                    0.15,\n",
       "                                                                                    0.2],\n",
       "                                                                          'min_child_weight': range(2, 20, 3),\n",
       "                                                                          'subsample': [0.5,\n",
       "                                                                                        0.55,\n",
       "                                                                                        0.6,\n",
       "                                                                                        0.65,\n",
       "                                                                                        0.7]},\n",
       "                                                              scoring='roc_auc',\n",
       "                                                              verbose=2)))])"
      ]
     },
     "execution_count": 8,
     "metadata": {},
     "output_type": "execute_result"
    }
   ],
   "source": [
    "preprocessor = SuperVectorizer() # just using onehot encoder in this dataset\n",
    "full_pipeline = Pipeline([\n",
    "    (\"preprocessor\", preprocessor),\n",
    "    ('simple_imputer', SimpleImputer(strategy='mean')),\n",
    "    (\"estimators\", estimators)\n",
    "])\n",
    "full_pipeline"
   ]
  },
  {
   "cell_type": "code",
   "execution_count": 9,
   "id": "fe6eacc7-75fe-43c8-9ad5-cdba7b96cc81",
   "metadata": {
    "tags": []
   },
   "outputs": [],
   "source": [
    "X_train, X_eval, y_train, y_eval = train_test_split(\n",
    "    features_df,\n",
    "    labels_df,\n",
    "    test_size=0.33,\n",
    "    shuffle=True,\n",
    "    stratify=labels_df,\n",
    "    random_state=RANDOM_SEED\n",
    ")"
   ]
  },
  {
   "cell_type": "code",
   "execution_count": null,
   "id": "50063841-a6f7-4c13-864c-27ab32bb71a9",
   "metadata": {},
   "outputs": [
    {
     "name": "stdout",
     "output_type": "stream",
     "text": [
      "Fitting 5 folds for each of 150 candidates, totalling 750 fits\n"
     ]
    }
   ],
   "source": [
    "full_pipeline.fit(X_train, y_train)\n",
    "preds = full_pipeline.predict_proba(X_eval)\n",
    "preds"
   ]
  },
  {
   "cell_type": "code",
   "execution_count": 13,
   "id": "4fe0c522-56f3-481c-b0c5-78c22c6e9ec5",
   "metadata": {},
   "outputs": [
    {
     "name": "stdout",
     "output_type": "stream",
     "text": [
      "y_preds.shape: (8814, 2)\n"
     ]
    },
    {
     "data": {
      "text/html": [
       "<div>\n",
       "<style scoped>\n",
       "    .dataframe tbody tr th:only-of-type {\n",
       "        vertical-align: middle;\n",
       "    }\n",
       "\n",
       "    .dataframe tbody tr th {\n",
       "        vertical-align: top;\n",
       "    }\n",
       "\n",
       "    .dataframe thead th {\n",
       "        text-align: right;\n",
       "    }\n",
       "</style>\n",
       "<table border=\"1\" class=\"dataframe\">\n",
       "  <thead>\n",
       "    <tr style=\"text-align: right;\">\n",
       "      <th></th>\n",
       "      <th>h1n1_vaccine</th>\n",
       "      <th>seasonal_vaccine</th>\n",
       "    </tr>\n",
       "    <tr>\n",
       "      <th>respondent_id</th>\n",
       "      <th></th>\n",
       "      <th></th>\n",
       "    </tr>\n",
       "  </thead>\n",
       "  <tbody>\n",
       "    <tr>\n",
       "      <th>6728</th>\n",
       "      <td>0.460459</td>\n",
       "      <td>0.641902</td>\n",
       "    </tr>\n",
       "    <tr>\n",
       "      <th>16516</th>\n",
       "      <td>0.047191</td>\n",
       "      <td>0.420735</td>\n",
       "    </tr>\n",
       "    <tr>\n",
       "      <th>3106</th>\n",
       "      <td>0.044418</td>\n",
       "      <td>0.589197</td>\n",
       "    </tr>\n",
       "    <tr>\n",
       "      <th>16981</th>\n",
       "      <td>0.928813</td>\n",
       "      <td>0.961069</td>\n",
       "    </tr>\n",
       "    <tr>\n",
       "      <th>19111</th>\n",
       "      <td>0.067800</td>\n",
       "      <td>0.767521</td>\n",
       "    </tr>\n",
       "  </tbody>\n",
       "</table>\n",
       "</div>"
      ],
      "text/plain": [
       "               h1n1_vaccine  seasonal_vaccine\n",
       "respondent_id                                \n",
       "6728               0.460459          0.641902\n",
       "16516              0.047191          0.420735\n",
       "3106               0.044418          0.589197\n",
       "16981              0.928813          0.961069\n",
       "19111              0.067800          0.767521"
      ]
     },
     "execution_count": 13,
     "metadata": {},
     "output_type": "execute_result"
    }
   ],
   "source": [
    "y_preds = pd.DataFrame(\n",
    "    {\n",
    "        \"h1n1_vaccine\": preds[0][:, 1],\n",
    "        \"seasonal_vaccine\": preds[1][:, 1],\n",
    "    },\n",
    "    index = y_eval.index\n",
    ")\n",
    "print(\"y_preds.shape:\", y_preds.shape)\n",
    "y_preds.head()"
   ]
  },
  {
   "cell_type": "code",
   "execution_count": 14,
   "id": "9338b913-da3e-41a4-a001-efa69d7452bf",
   "metadata": {},
   "outputs": [
    {
     "data": {
      "text/plain": [
       "0.8672084841603658"
      ]
     },
     "execution_count": 14,
     "metadata": {},
     "output_type": "execute_result"
    }
   ],
   "source": [
    "roc_auc_score(y_eval, y_preds)"
   ]
  },
  {
   "cell_type": "markdown",
   "id": "4aff0025-1d10-470c-a584-a8ad0cc1b4b8",
   "metadata": {},
   "source": [
    "# Use optimum parameters to build model"
   ]
  },
  {
   "cell_type": "code",
   "execution_count": 92,
   "id": "1c9b2859-47a2-4839-8216-a6036588acdc",
   "metadata": {},
   "outputs": [
    {
     "data": {
      "text/plain": [
       "{'learning_rate': 0.05, 'max_depth': 5, 'n_estimators': 180}"
      ]
     },
     "execution_count": 92,
     "metadata": {},
     "output_type": "execute_result"
    }
   ],
   "source": [
    "full_pipeline[2].estimators_[0].best_params_"
   ]
  },
  {
   "cell_type": "code",
   "execution_count": 10,
   "id": "f14799a5-0f74-452a-8c98-134f7ab2aaba",
   "metadata": {},
   "outputs": [],
   "source": [
    "final_pipeline = Pipeline([\n",
    "    (\"preprocessor\", preprocessor),\n",
    "    ('simple_imputer', SimpleImputer(strategy='mean')),\n",
    "    (\"estimators\", MultiOutputClassifier(estimator = xgb.XGBClassifier(objective=\"multi:softprob\", random_state=RANDOM_SEED,num_class = 2,learning_rate= 0.05, n_estimators=180, min_child_weight= 10,gamma= 0.1, maxdepth= 5, subsample= 0.6)))\n",
    "])"
   ]
  },
  {
   "cell_type": "code",
   "execution_count": 11,
   "id": "faab2086-ccce-441a-bfee-e853ed83d4fb",
   "metadata": {},
   "outputs": [
    {
     "name": "stdout",
     "output_type": "stream",
     "text": [
      "[19:32:37] WARNING: C:/Users/Administrator/workspace/xgboost-win64_release_1.6.0/src/learner.cc:627: \n",
      "Parameters: { \"maxdepth\" } might not be used.\n",
      "\n",
      "  This could be a false alarm, with some parameters getting used by language bindings but\n",
      "  then being mistakenly passed down to XGBoost core, or some parameter actually being used\n",
      "  but getting flagged wrongly here. Please open an issue if you find any such cases.\n",
      "\n",
      "\n",
      "[19:32:43] WARNING: C:/Users/Administrator/workspace/xgboost-win64_release_1.6.0/src/learner.cc:627: \n",
      "Parameters: { \"maxdepth\" } might not be used.\n",
      "\n",
      "  This could be a false alarm, with some parameters getting used by language bindings but\n",
      "  then being mistakenly passed down to XGBoost core, or some parameter actually being used\n",
      "  but getting flagged wrongly here. Please open an issue if you find any such cases.\n",
      "\n",
      "\n"
     ]
    },
    {
     "data": {
      "text/html": [
       "<style>#sk-container-id-2 {color: black;background-color: white;}#sk-container-id-2 pre{padding: 0;}#sk-container-id-2 div.sk-toggleable {background-color: white;}#sk-container-id-2 label.sk-toggleable__label {cursor: pointer;display: block;width: 100%;margin-bottom: 0;padding: 0.3em;box-sizing: border-box;text-align: center;}#sk-container-id-2 label.sk-toggleable__label-arrow:before {content: \"▸\";float: left;margin-right: 0.25em;color: #696969;}#sk-container-id-2 label.sk-toggleable__label-arrow:hover:before {color: black;}#sk-container-id-2 div.sk-estimator:hover label.sk-toggleable__label-arrow:before {color: black;}#sk-container-id-2 div.sk-toggleable__content {max-height: 0;max-width: 0;overflow: hidden;text-align: left;background-color: #f0f8ff;}#sk-container-id-2 div.sk-toggleable__content pre {margin: 0.2em;color: black;border-radius: 0.25em;background-color: #f0f8ff;}#sk-container-id-2 input.sk-toggleable__control:checked~div.sk-toggleable__content {max-height: 200px;max-width: 100%;overflow: auto;}#sk-container-id-2 input.sk-toggleable__control:checked~label.sk-toggleable__label-arrow:before {content: \"▾\";}#sk-container-id-2 div.sk-estimator input.sk-toggleable__control:checked~label.sk-toggleable__label {background-color: #d4ebff;}#sk-container-id-2 div.sk-label input.sk-toggleable__control:checked~label.sk-toggleable__label {background-color: #d4ebff;}#sk-container-id-2 input.sk-hidden--visually {border: 0;clip: rect(1px 1px 1px 1px);clip: rect(1px, 1px, 1px, 1px);height: 1px;margin: -1px;overflow: hidden;padding: 0;position: absolute;width: 1px;}#sk-container-id-2 div.sk-estimator {font-family: monospace;background-color: #f0f8ff;border: 1px dotted black;border-radius: 0.25em;box-sizing: border-box;margin-bottom: 0.5em;}#sk-container-id-2 div.sk-estimator:hover {background-color: #d4ebff;}#sk-container-id-2 div.sk-parallel-item::after {content: \"\";width: 100%;border-bottom: 1px solid gray;flex-grow: 1;}#sk-container-id-2 div.sk-label:hover label.sk-toggleable__label {background-color: #d4ebff;}#sk-container-id-2 div.sk-serial::before {content: \"\";position: absolute;border-left: 1px solid gray;box-sizing: border-box;top: 0;bottom: 0;left: 50%;z-index: 0;}#sk-container-id-2 div.sk-serial {display: flex;flex-direction: column;align-items: center;background-color: white;padding-right: 0.2em;padding-left: 0.2em;position: relative;}#sk-container-id-2 div.sk-item {position: relative;z-index: 1;}#sk-container-id-2 div.sk-parallel {display: flex;align-items: stretch;justify-content: center;background-color: white;position: relative;}#sk-container-id-2 div.sk-item::before, #sk-container-id-2 div.sk-parallel-item::before {content: \"\";position: absolute;border-left: 1px solid gray;box-sizing: border-box;top: 0;bottom: 0;left: 50%;z-index: -1;}#sk-container-id-2 div.sk-parallel-item {display: flex;flex-direction: column;z-index: 1;position: relative;background-color: white;}#sk-container-id-2 div.sk-parallel-item:first-child::after {align-self: flex-end;width: 50%;}#sk-container-id-2 div.sk-parallel-item:last-child::after {align-self: flex-start;width: 50%;}#sk-container-id-2 div.sk-parallel-item:only-child::after {width: 0;}#sk-container-id-2 div.sk-dashed-wrapped {border: 1px dashed gray;margin: 0 0.4em 0.5em 0.4em;box-sizing: border-box;padding-bottom: 0.4em;background-color: white;}#sk-container-id-2 div.sk-label label {font-family: monospace;font-weight: bold;display: inline-block;line-height: 1.2em;}#sk-container-id-2 div.sk-label-container {text-align: center;}#sk-container-id-2 div.sk-container {/* jupyter's `normalize.less` sets `[hidden] { display: none; }` but bootstrap.min.css set `[hidden] { display: none !important; }` so we also need the `!important` here to be able to override the default hidden behavior on the sphinx rendered scikit-learn.org. See: https://github.com/scikit-learn/scikit-learn/issues/21755 */display: inline-block !important;position: relative;}#sk-container-id-2 div.sk-text-repr-fallback {display: none;}</style><div id=\"sk-container-id-2\" class=\"sk-top-container\"><div class=\"sk-text-repr-fallback\"><pre>Pipeline(steps=[(&#x27;preprocessor&#x27;, SuperVectorizer()),\n",
       "                (&#x27;simple_imputer&#x27;, SimpleImputer()),\n",
       "                (&#x27;estimators&#x27;,\n",
       "                 MultiOutputClassifier(estimator=XGBClassifier(base_score=None,\n",
       "                                                               booster=None,\n",
       "                                                               callbacks=None,\n",
       "                                                               colsample_bylevel=None,\n",
       "                                                               colsample_bynode=None,\n",
       "                                                               colsample_bytree=None,\n",
       "                                                               early_stopping_rounds=None,\n",
       "                                                               enable_categorical=False,\n",
       "                                                               eval_metric=None,\n",
       "                                                               gamma=0.1,\n",
       "                                                               gpu_id=None,\n",
       "                                                               gr...olicy=None,\n",
       "                                                               importance_type=None,\n",
       "                                                               interaction_constraints=None,\n",
       "                                                               learning_rate=0.05,\n",
       "                                                               max_bin=None,\n",
       "                                                               max_cat_to_onehot=None,\n",
       "                                                               max_delta_step=None,\n",
       "                                                               max_depth=None,\n",
       "                                                               max_leaves=None,\n",
       "                                                               maxdepth=5,\n",
       "                                                               min_child_weight=10,\n",
       "                                                               missing=nan,\n",
       "                                                               monotone_constraints=None,\n",
       "                                                               n_estimators=180,\n",
       "                                                               n_jobs=None,\n",
       "                                                               num_class=2,\n",
       "                                                               num_parallel_tree=None,\n",
       "                                                               objective=&#x27;multi:softprob&#x27;,\n",
       "                                                               predictor=None, ...)))])</pre><b>In a Jupyter environment, please rerun this cell to show the HTML representation or trust the notebook. <br />On GitHub, the HTML representation is unable to render, please try loading this page with nbviewer.org.</b></div><div class=\"sk-container\" hidden><div class=\"sk-item sk-dashed-wrapped\"><div class=\"sk-label-container\"><div class=\"sk-label sk-toggleable\"><input class=\"sk-toggleable__control sk-hidden--visually\" id=\"sk-estimator-id-10\" type=\"checkbox\" ><label for=\"sk-estimator-id-10\" class=\"sk-toggleable__label sk-toggleable__label-arrow\">Pipeline</label><div class=\"sk-toggleable__content\"><pre>Pipeline(steps=[(&#x27;preprocessor&#x27;, SuperVectorizer()),\n",
       "                (&#x27;simple_imputer&#x27;, SimpleImputer()),\n",
       "                (&#x27;estimators&#x27;,\n",
       "                 MultiOutputClassifier(estimator=XGBClassifier(base_score=None,\n",
       "                                                               booster=None,\n",
       "                                                               callbacks=None,\n",
       "                                                               colsample_bylevel=None,\n",
       "                                                               colsample_bynode=None,\n",
       "                                                               colsample_bytree=None,\n",
       "                                                               early_stopping_rounds=None,\n",
       "                                                               enable_categorical=False,\n",
       "                                                               eval_metric=None,\n",
       "                                                               gamma=0.1,\n",
       "                                                               gpu_id=None,\n",
       "                                                               gr...olicy=None,\n",
       "                                                               importance_type=None,\n",
       "                                                               interaction_constraints=None,\n",
       "                                                               learning_rate=0.05,\n",
       "                                                               max_bin=None,\n",
       "                                                               max_cat_to_onehot=None,\n",
       "                                                               max_delta_step=None,\n",
       "                                                               max_depth=None,\n",
       "                                                               max_leaves=None,\n",
       "                                                               maxdepth=5,\n",
       "                                                               min_child_weight=10,\n",
       "                                                               missing=nan,\n",
       "                                                               monotone_constraints=None,\n",
       "                                                               n_estimators=180,\n",
       "                                                               n_jobs=None,\n",
       "                                                               num_class=2,\n",
       "                                                               num_parallel_tree=None,\n",
       "                                                               objective=&#x27;multi:softprob&#x27;,\n",
       "                                                               predictor=None, ...)))])</pre></div></div></div><div class=\"sk-serial\"><div class=\"sk-item sk-dashed-wrapped\"><div class=\"sk-label-container\"><div class=\"sk-label sk-toggleable\"><input class=\"sk-toggleable__control sk-hidden--visually\" id=\"sk-estimator-id-11\" type=\"checkbox\" ><label for=\"sk-estimator-id-11\" class=\"sk-toggleable__label sk-toggleable__label-arrow\">preprocessor: SuperVectorizer</label><div class=\"sk-toggleable__content\"><pre>SuperVectorizer()</pre></div></div></div><div class=\"sk-parallel\"><div class=\"sk-parallel-item\"><div class=\"sk-item\"><div class=\"sk-label-container\"><div class=\"sk-label sk-toggleable\"><input class=\"sk-toggleable__control sk-hidden--visually\" id=\"sk-estimator-id-12\" type=\"checkbox\" ><label for=\"sk-estimator-id-12\" class=\"sk-toggleable__label sk-toggleable__label-arrow\">low_card_cat</label><div class=\"sk-toggleable__content\"><pre>[&#x27;age_group&#x27;, &#x27;education&#x27;, &#x27;race&#x27;, &#x27;sex&#x27;, &#x27;income_poverty&#x27;, &#x27;marital_status&#x27;, &#x27;rent_or_own&#x27;, &#x27;employment_status&#x27;, &#x27;hhs_geo_region&#x27;, &#x27;census_msa&#x27;, &#x27;employment_industry&#x27;, &#x27;employment_occupation&#x27;]</pre></div></div></div><div class=\"sk-serial\"><div class=\"sk-item\"><div class=\"sk-estimator sk-toggleable\"><input class=\"sk-toggleable__control sk-hidden--visually\" id=\"sk-estimator-id-13\" type=\"checkbox\" ><label for=\"sk-estimator-id-13\" class=\"sk-toggleable__label sk-toggleable__label-arrow\">OneHotEncoder</label><div class=\"sk-toggleable__content\"><pre>OneHotEncoder()</pre></div></div></div></div></div></div><div class=\"sk-parallel-item\"><div class=\"sk-item\"><div class=\"sk-label-container\"><div class=\"sk-label sk-toggleable\"><input class=\"sk-toggleable__control sk-hidden--visually\" id=\"sk-estimator-id-14\" type=\"checkbox\" ><label for=\"sk-estimator-id-14\" class=\"sk-toggleable__label sk-toggleable__label-arrow\">remainder</label><div class=\"sk-toggleable__content\"><pre>[&#x27;h1n1_concern&#x27;, &#x27;h1n1_knowledge&#x27;, &#x27;behavioral_antiviral_meds&#x27;, &#x27;behavioral_avoidance&#x27;, &#x27;behavioral_face_mask&#x27;, &#x27;behavioral_wash_hands&#x27;, &#x27;behavioral_large_gatherings&#x27;, &#x27;behavioral_outside_home&#x27;, &#x27;behavioral_touch_face&#x27;, &#x27;doctor_recc_h1n1&#x27;, &#x27;doctor_recc_seasonal&#x27;, &#x27;chronic_med_condition&#x27;, &#x27;child_under_6_months&#x27;, &#x27;health_worker&#x27;, &#x27;health_insurance&#x27;, &#x27;opinion_h1n1_vacc_effective&#x27;, &#x27;opinion_h1n1_risk&#x27;, &#x27;opinion_h1n1_sick_from_vacc&#x27;, &#x27;opinion_seas_vacc_effective&#x27;, &#x27;opinion_seas_risk&#x27;, &#x27;opinion_seas_sick_from_vacc&#x27;, &#x27;household_adults&#x27;, &#x27;household_children&#x27;]</pre></div></div></div><div class=\"sk-serial\"><div class=\"sk-item\"><div class=\"sk-estimator sk-toggleable\"><input class=\"sk-toggleable__control sk-hidden--visually\" id=\"sk-estimator-id-15\" type=\"checkbox\" ><label for=\"sk-estimator-id-15\" class=\"sk-toggleable__label sk-toggleable__label-arrow\">passthrough</label><div class=\"sk-toggleable__content\"><pre>passthrough</pre></div></div></div></div></div></div></div></div><div class=\"sk-item\"><div class=\"sk-estimator sk-toggleable\"><input class=\"sk-toggleable__control sk-hidden--visually\" id=\"sk-estimator-id-16\" type=\"checkbox\" ><label for=\"sk-estimator-id-16\" class=\"sk-toggleable__label sk-toggleable__label-arrow\">SimpleImputer</label><div class=\"sk-toggleable__content\"><pre>SimpleImputer()</pre></div></div></div><div class=\"sk-item sk-dashed-wrapped\"><div class=\"sk-label-container\"><div class=\"sk-label sk-toggleable\"><input class=\"sk-toggleable__control sk-hidden--visually\" id=\"sk-estimator-id-17\" type=\"checkbox\" ><label for=\"sk-estimator-id-17\" class=\"sk-toggleable__label sk-toggleable__label-arrow\">estimators: MultiOutputClassifier</label><div class=\"sk-toggleable__content\"><pre>MultiOutputClassifier(estimator=XGBClassifier(base_score=None, booster=None,\n",
       "                                              callbacks=None,\n",
       "                                              colsample_bylevel=None,\n",
       "                                              colsample_bynode=None,\n",
       "                                              colsample_bytree=None,\n",
       "                                              early_stopping_rounds=None,\n",
       "                                              enable_categorical=False,\n",
       "                                              eval_metric=None, gamma=0.1,\n",
       "                                              gpu_id=None, grow_policy=None,\n",
       "                                              importance_type=None,\n",
       "                                              interaction_constraints=None,\n",
       "                                              learning_rate=0.05, max_bin=None,\n",
       "                                              max_cat_to_onehot=None,\n",
       "                                              max_delta_step=None,\n",
       "                                              max_depth=None, max_leaves=None,\n",
       "                                              maxdepth=5, min_child_weight=10,\n",
       "                                              missing=nan,\n",
       "                                              monotone_constraints=None,\n",
       "                                              n_estimators=180, n_jobs=None,\n",
       "                                              num_class=2,\n",
       "                                              num_parallel_tree=None,\n",
       "                                              objective=&#x27;multi:softprob&#x27;,\n",
       "                                              predictor=None, ...))</pre></div></div></div><div class=\"sk-parallel\"><div class=\"sk-parallel-item\"><div class=\"sk-item\"><div class=\"sk-label-container\"><div class=\"sk-label sk-toggleable\"><input class=\"sk-toggleable__control sk-hidden--visually\" id=\"sk-estimator-id-18\" type=\"checkbox\" ><label for=\"sk-estimator-id-18\" class=\"sk-toggleable__label sk-toggleable__label-arrow\">estimator: XGBClassifier</label><div class=\"sk-toggleable__content\"><pre>XGBClassifier(base_score=None, booster=None, callbacks=None,\n",
       "              colsample_bylevel=None, colsample_bynode=None,\n",
       "              colsample_bytree=None, early_stopping_rounds=None,\n",
       "              enable_categorical=False, eval_metric=None, gamma=0.1,\n",
       "              gpu_id=None, grow_policy=None, importance_type=None,\n",
       "              interaction_constraints=None, learning_rate=0.05, max_bin=None,\n",
       "              max_cat_to_onehot=None, max_delta_step=None, max_depth=None,\n",
       "              max_leaves=None, maxdepth=5, min_child_weight=10, missing=nan,\n",
       "              monotone_constraints=None, n_estimators=180, n_jobs=None,\n",
       "              num_class=2, num_parallel_tree=None, objective=&#x27;multi:softprob&#x27;,\n",
       "              predictor=None, ...)</pre></div></div></div><div class=\"sk-serial\"><div class=\"sk-item\"><div class=\"sk-estimator sk-toggleable\"><input class=\"sk-toggleable__control sk-hidden--visually\" id=\"sk-estimator-id-19\" type=\"checkbox\" ><label for=\"sk-estimator-id-19\" class=\"sk-toggleable__label sk-toggleable__label-arrow\">XGBClassifier</label><div class=\"sk-toggleable__content\"><pre>XGBClassifier(base_score=None, booster=None, callbacks=None,\n",
       "              colsample_bylevel=None, colsample_bynode=None,\n",
       "              colsample_bytree=None, early_stopping_rounds=None,\n",
       "              enable_categorical=False, eval_metric=None, gamma=0.1,\n",
       "              gpu_id=None, grow_policy=None, importance_type=None,\n",
       "              interaction_constraints=None, learning_rate=0.05, max_bin=None,\n",
       "              max_cat_to_onehot=None, max_delta_step=None, max_depth=None,\n",
       "              max_leaves=None, maxdepth=5, min_child_weight=10, missing=nan,\n",
       "              monotone_constraints=None, n_estimators=180, n_jobs=None,\n",
       "              num_class=2, num_parallel_tree=None, objective=&#x27;multi:softprob&#x27;,\n",
       "              predictor=None, ...)</pre></div></div></div></div></div></div></div></div></div></div></div></div>"
      ],
      "text/plain": [
       "Pipeline(steps=[('preprocessor', SuperVectorizer()),\n",
       "                ('simple_imputer', SimpleImputer()),\n",
       "                ('estimators',\n",
       "                 MultiOutputClassifier(estimator=XGBClassifier(base_score=None,\n",
       "                                                               booster=None,\n",
       "                                                               callbacks=None,\n",
       "                                                               colsample_bylevel=None,\n",
       "                                                               colsample_bynode=None,\n",
       "                                                               colsample_bytree=None,\n",
       "                                                               early_stopping_rounds=None,\n",
       "                                                               enable_categorical=False,\n",
       "                                                               eval_metric=None,\n",
       "                                                               gamma=0.1,\n",
       "                                                               gpu_id=None,\n",
       "                                                               gr...olicy=None,\n",
       "                                                               importance_type=None,\n",
       "                                                               interaction_constraints=None,\n",
       "                                                               learning_rate=0.05,\n",
       "                                                               max_bin=None,\n",
       "                                                               max_cat_to_onehot=None,\n",
       "                                                               max_delta_step=None,\n",
       "                                                               max_depth=None,\n",
       "                                                               max_leaves=None,\n",
       "                                                               maxdepth=5,\n",
       "                                                               min_child_weight=10,\n",
       "                                                               missing=nan,\n",
       "                                                               monotone_constraints=None,\n",
       "                                                               n_estimators=180,\n",
       "                                                               n_jobs=None,\n",
       "                                                               num_class=2,\n",
       "                                                               num_parallel_tree=None,\n",
       "                                                               objective='multi:softprob',\n",
       "                                                               predictor=None, ...)))])"
      ]
     },
     "execution_count": 11,
     "metadata": {},
     "output_type": "execute_result"
    }
   ],
   "source": [
    "final_pipeline.fit(features_df, labels_df)"
   ]
  },
  {
   "cell_type": "code",
   "execution_count": 20,
   "id": "cfeae963-ec63-4032-8f6d-ec1eb74fe5a9",
   "metadata": {},
   "outputs": [
    {
     "data": {
      "text/plain": [
       "[array([[0.8952368 , 0.10476322],\n",
       "        [0.97672963, 0.02327042],\n",
       "        [0.7377556 , 0.2622444 ],\n",
       "        ...,\n",
       "        [0.7785122 , 0.22148785],\n",
       "        [0.98439157, 0.01560838],\n",
       "        [0.31625786, 0.68374217]], dtype=float32),\n",
       " array([[0.76484483, 0.23515517],\n",
       "        [0.9767569 , 0.02324306],\n",
       "        [0.28610536, 0.7138946 ],\n",
       "        ...,\n",
       "        [0.84868747, 0.1513125 ],\n",
       "        [0.6778522 , 0.3221478 ],\n",
       "        [0.33193815, 0.66806185]], dtype=float32)]"
      ]
     },
     "execution_count": 20,
     "metadata": {},
     "output_type": "execute_result"
    }
   ],
   "source": [
    "test_features_df = pd.read_csv(\"test_set_features.csv\", \n",
    "                               index_col = 'respondent_id')\n",
    "test_probas = final_pipeline.predict_proba(test_features_df)\n",
    "test_probas"
   ]
  },
  {
   "cell_type": "markdown",
   "id": "aa5cbb76-8391-4aa3-8a3d-b8117b964f7d",
   "metadata": {},
   "source": [
    "## Plotting Results"
   ]
  },
  {
   "cell_type": "code",
   "execution_count": 16,
   "id": "468ace59-7afe-48e7-aad0-9ed607c9264c",
   "metadata": {},
   "outputs": [
    {
     "data": {
      "image/png": "[encoded data removed]",
      "text/plain": [
       "<Figure size 504x252 with 2 Axes>"
      ]
     },
     "metadata": {
      "needs_background": "light"
     },
     "output_type": "display_data"
    }
   ],
   "source": [
    "from plot import plot_roc\n",
    "fig, ax = plt.subplots(1, 2, figsize=(7, 3.5))\n",
    "\n",
    "plot_roc(\n",
    "    y_eval['h1n1_vaccine'], \n",
    "    y_preds['h1n1_vaccine'], \n",
    "    'h1n1_vaccine',\n",
    "    ax=ax[0]\n",
    ")\n",
    "plot_roc(\n",
    "    y_eval['seasonal_vaccine'], \n",
    "    y_preds['seasonal_vaccine'], \n",
    "    'seasonal_vaccine',\n",
    "    ax=ax[1]\n",
    ")\n",
    "fig.tight_layout()"
   ]
  },
  {
   "cell_type": "code",
   "execution_count": 69,
   "id": "bc69f885-5b5c-4f6c-8cfa-635898543f2f",
   "metadata": {
    "tags": []
   },
   "outputs": [],
   "source": [
    "cm_seasonal = []\n",
    "for i in range(8814):\n",
    "    if y_preds.iloc[i]['seasonal_vaccine'] <= 0.5:\n",
    "        cm_seasonal.append(0) \n",
    "    else:\n",
    "        cm_seasonal.append(1)\n",
    "cm_h1n1 = []\n",
    "for i in range(8814):\n",
    "    if y_preds.iloc[i]['h1n1_vaccine'] <= 0.5:\n",
    "        cm_h1n1.append(0) \n",
    "    else:\n",
    "        cm_h1n1.append(1)"
   ]
  },
  {
   "cell_type": "code",
   "execution_count": 70,
   "id": "da78b704-adac-4d46-8679-697e96de1fd4",
   "metadata": {},
   "outputs": [
    {
     "data": {
      "text/plain": [
       "<sklearn.metrics._plot.confusion_matrix.ConfusionMatrixDisplay at 0x19ac454b850>"
      ]
     },
     "execution_count": 70,
     "metadata": {},
     "output_type": "execute_result"
    },
    {
     "data": {
      "image/png": "[encoded data removed]",
      "text/plain": [
       "<Figure size 432x288 with 2 Axes>"
      ]
     },
     "metadata": {
      "needs_background": "light"
     },
     "output_type": "display_data"
    },
    {
     "data": {
      "image/png": "[encoded data removed]",
      "text/plain": [
       "<Figure size 432x288 with 2 Axes>"
      ]
     },
     "metadata": {
      "needs_background": "light"
     },
     "output_type": "display_data"
    }
   ],
   "source": [
    "from sklearn.metrics import ConfusionMatrixDisplay\n",
    "ConfusionMatrixDisplay.from_predictions(y_eval['seasonal_vaccine'], cm_seasonal)  \n",
    "ConfusionMatrixDisplay.from_predictions(y_eval['h1n1_vaccine'], cm_h1n1) "
   ]
  },
  {
   "cell_type": "markdown",
   "id": "1e814ced-2911-45b1-b5c5-59c5c61d5e31",
   "metadata": {},
   "source": [
    "## Feature Selection"
   ]
  },
  {
   "cell_type": "code",
   "execution_count": null,
   "id": "891e5099-90ec-4ec5-aa1b-443d1793982a",
   "metadata": {},
   "outputs": [
    {
     "name": "stderr",
     "output_type": "stream",
     "text": [
      "[Parallel(n_jobs=3)]: Using backend LokyBackend with 3 concurrent workers.\n",
      "[Parallel(n_jobs=3)]: Done  35 out of  35 | elapsed:  1.2min finished\n",
      "\n",
      "[2022-07-25 20:12:11] Features: 1/35 -- score: 0.7031421254017985[Parallel(n_jobs=3)]: Using backend LokyBackend with 3 concurrent workers.\n",
      "[Parallel(n_jobs=3)]: Done  34 out of  34 | elapsed:  1.8min finished\n",
      "\n",
      "[2022-07-25 20:14:02] Features: 2/35 -- score: 0.7806724940856643[Parallel(n_jobs=3)]: Using backend LokyBackend with 3 concurrent workers.\n",
      "[Parallel(n_jobs=3)]: Done  33 out of  33 | elapsed:  1.9min finished\n",
      "\n",
      "[2022-07-25 20:15:59] Features: 3/35 -- score: 0.8262622311133523[Parallel(n_jobs=3)]: Using backend LokyBackend with 3 concurrent workers.\n",
      "[Parallel(n_jobs=3)]: Done  32 out of  32 | elapsed:  2.0min finished\n",
      "\n",
      "[2022-07-25 20:17:58] Features: 4/35 -- score: 0.8444522124854472[Parallel(n_jobs=3)]: Using backend LokyBackend with 3 concurrent workers.\n",
      "[Parallel(n_jobs=3)]: Done  31 out of  31 | elapsed:  2.3min finished\n",
      "\n",
      "[2022-07-25 20:20:15] Features: 5/35 -- score: 0.8514396930873278[Parallel(n_jobs=3)]: Using backend LokyBackend with 3 concurrent workers.\n",
      "[Parallel(n_jobs=3)]: Done  30 out of  30 | elapsed:  2.3min finished\n",
      "\n",
      "[2022-07-25 20:22:34] Features: 6/35 -- score: 0.8539887527588105[Parallel(n_jobs=3)]: Using backend LokyBackend with 3 concurrent workers.\n",
      "[Parallel(n_jobs=3)]: Done  29 out of  29 | elapsed:  2.4min finished\n",
      "\n",
      "[2022-07-25 20:24:57] Features: 7/35 -- score: 0.8562255183426043[Parallel(n_jobs=3)]: Using backend LokyBackend with 3 concurrent workers.\n",
      "[Parallel(n_jobs=3)]: Done  28 out of  28 | elapsed:  2.4min finished\n",
      "\n",
      "[2022-07-25 20:27:20] Features: 8/35 -- score: 0.858535138172557[Parallel(n_jobs=3)]: Using backend LokyBackend with 3 concurrent workers.\n",
      "[Parallel(n_jobs=3)]: Done  27 out of  27 | elapsed:  2.4min finished\n",
      "\n",
      "[2022-07-25 20:29:43] Features: 9/35 -- score: 0.8604500849850778[Parallel(n_jobs=3)]: Using backend LokyBackend with 3 concurrent workers.\n",
      "[Parallel(n_jobs=3)]: Done  26 out of  26 | elapsed:  2.6min finished\n",
      "\n",
      "[2022-07-25 20:32:18] Features: 10/35 -- score: 0.8625931171637914[Parallel(n_jobs=3)]: Using backend LokyBackend with 3 concurrent workers.\n",
      "[Parallel(n_jobs=3)]: Done  25 out of  25 | elapsed:  2.6min finished\n",
      "\n",
      "[2022-07-25 20:34:54] Features: 11/35 -- score: 0.8640622343591678[Parallel(n_jobs=3)]: Using backend LokyBackend with 3 concurrent workers.\n",
      "[Parallel(n_jobs=3)]: Done  24 out of  24 | elapsed:  2.5min finished\n",
      "\n",
      "[2022-07-25 20:37:24] Features: 12/35 -- score: 0.865161047969243[Parallel(n_jobs=3)]: Using backend LokyBackend with 3 concurrent workers.\n"
     ]
    }
   ],
   "source": [
    "from mlxtend.feature_selection import SequentialFeatureSelector as SFS\n",
    "from mlxtend.plotting import plot_sequential_feature_selection as plot_sfs\n",
    "from sklearn.compose import ColumnTransformer\n",
    "from category_encoders import OrdinalEncoder as oe\n",
    "cat_cols = X_train.select_dtypes('object').columns\n",
    "ct = ColumnTransformer(\n",
    "    [('ordinal', oe(), cat_cols)],\n",
    "    remainder='passthrough')\n",
    "sfs2 = SFS(xgb.XGBClassifier(objective=\"multi:softprob\", random_state=RANDOM_SEED,num_class = 2,learning_rate= 0.05, n_estimators=180, min_child_weight= 10,gamma= 0.1, maxdepth= 5, subsample= 0.6),\n",
    "           k_features=X_train.shape[1], \n",
    "           forward=True, \n",
    "           floating=False, \n",
    "           verbose=2,\n",
    "           scoring='roc_auc',\n",
    "           cv=5,\n",
    "           n_jobs = 3)\n",
    "sfs2 = sfs2.fit(ct.fit_transform(X_train), np.array(y_train.h1n1_vaccine).ravel())\n"
   ]
  },
  {
   "cell_type": "markdown",
   "id": "eed736ea-3a9c-461a-a49c-6bf7216af4dc",
   "metadata": {},
   "source": [
    "## Submission"
   ]
  },
  {
   "cell_type": "code",
   "execution_count": 103,
   "id": "fdd27dd7-d4dd-41db-ba41-196aa9a4870c",
   "metadata": {},
   "outputs": [
    {
     "data": {
      "text/html": [
       "<div>\n",
       "<style scoped>\n",
       "    .dataframe tbody tr th:only-of-type {\n",
       "        vertical-align: middle;\n",
       "    }\n",
       "\n",
       "    .dataframe tbody tr th {\n",
       "        vertical-align: top;\n",
       "    }\n",
       "\n",
       "    .dataframe thead th {\n",
       "        text-align: right;\n",
       "    }\n",
       "</style>\n",
       "<table border=\"1\" class=\"dataframe\">\n",
       "  <thead>\n",
       "    <tr style=\"text-align: right;\">\n",
       "      <th></th>\n",
       "      <th>h1n1_vaccine</th>\n",
       "      <th>seasonal_vaccine</th>\n",
       "    </tr>\n",
       "    <tr>\n",
       "      <th>respondent_id</th>\n",
       "      <th></th>\n",
       "      <th></th>\n",
       "    </tr>\n",
       "  </thead>\n",
       "  <tbody>\n",
       "    <tr>\n",
       "      <th>26707</th>\n",
       "      <td>0.131575</td>\n",
       "      <td>0.221978</td>\n",
       "    </tr>\n",
       "    <tr>\n",
       "      <th>26708</th>\n",
       "      <td>0.027926</td>\n",
       "      <td>0.035183</td>\n",
       "    </tr>\n",
       "    <tr>\n",
       "      <th>26709</th>\n",
       "      <td>0.185842</td>\n",
       "      <td>0.718571</td>\n",
       "    </tr>\n",
       "    <tr>\n",
       "      <th>26710</th>\n",
       "      <td>0.714797</td>\n",
       "      <td>0.914057</td>\n",
       "    </tr>\n",
       "    <tr>\n",
       "      <th>26711</th>\n",
       "      <td>0.316335</td>\n",
       "      <td>0.483870</td>\n",
       "    </tr>\n",
       "  </tbody>\n",
       "</table>\n",
       "</div>"
      ],
      "text/plain": [
       "               h1n1_vaccine  seasonal_vaccine\n",
       "respondent_id                                \n",
       "26707              0.131575          0.221978\n",
       "26708              0.027926          0.035183\n",
       "26709              0.185842          0.718571\n",
       "26710              0.714797          0.914057\n",
       "26711              0.316335          0.483870"
      ]
     },
     "execution_count": 103,
     "metadata": {},
     "output_type": "execute_result"
    }
   ],
   "source": [
    "submission_df = pd.read_csv(\"submission_format.csv\", \n",
    "                            index_col=\"respondent_id\")\n",
    "np.testing.assert_array_equal(test_features_df.index.values, \n",
    "                              submission_df.index.values)\n",
    "submission_df[\"h1n1_vaccine\"] = test_probas[0][:, 1]\n",
    "submission_df[\"seasonal_vaccine\"] = test_probas[1][:, 1]\n",
    "\n",
    "\n",
    "submission_df.head()\n"
   ]
  },
  {
   "cell_type": "code",
   "execution_count": 104,
   "id": "5efab9c6-baa6-483f-b3f1-e7de4ea20b5c",
   "metadata": {},
   "outputs": [],
   "source": [
    "submission_df.to_csv('my_submission_xgboost.csv', index=True)"
   ]
  }
 ],
 "metadata": {
  "kernelspec": {
   "display_name": "Python 3 (ipykernel)",
   "language": "python",
   "name": "python3"
  },
  "language_info": {
   "codemirror_mode": {
    "name": "ipython",
    "version": 3
   },
   "file_extension": ".py",
   "mimetype": "text/x-python",
   "name": "python",
   "nbconvert_exporter": "python",
   "pygments_lexer": "ipython3",
   "version": "3.10.0"
  }
 },
 "nbformat": 4,
 "nbformat_minor": 5
}
